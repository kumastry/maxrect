{
  "nbformat": 4,
  "nbformat_minor": 0,
  "metadata": {
    "colab": {
      "name": "maxrect.ipynb",
      "provenance": [],
      "collapsed_sections": [],
      "mount_file_id": "1ZQ5_oXNqb19gQcnhGYfj4eVf9rudEXG_",
      "authorship_tag": "ABX9TyMe7Gh5TEn53yXeSpIMzjzc",
      "include_colab_link": true
    },
    "kernelspec": {
      "name": "python3",
      "display_name": "Python 3"
    },
    "language_info": {
      "name": "python"
    }
  },
  "cells": [
    {
      "cell_type": "markdown",
      "metadata": {
        "id": "view-in-github",
        "colab_type": "text"
      },
      "source": [
        "<a href=\"https://colab.research.google.com/github/kumastry/maxrect/blob/main/maxrect.ipynb\" target=\"_parent\"><img src=\"https://colab.research.google.com/assets/colab-badge.svg\" alt=\"Open In Colab\"/></a>"
      ]
    },
    {
      "cell_type": "code",
      "source": [
        "from myModule import maxrect as mt\n",
        "import networkx as nx\n",
        "import matplotlib.pyplot as plt\n",
        "\n",
        "m1 = mt.maxrect()\n",
        "#m1.ready()\n",
        "#m1.printResult()\n",
        "\n",
        "G = nx.Graph()\n",
        "node_labels = \"xyzabcde\"\n",
        "G.add_nodes_from(node_labels)\n",
        "\n",
        "\n",
        "pos = {}\n",
        "cnt = 0\n",
        "upper = -1\n",
        "lower = 1\n",
        "interval = 0.5\n",
        "f = True\n",
        "ypos = upper\n",
        "for i in node_labels:\n",
        "  pos[i] = (-1 + interval*cnt, ypos)\n",
        "  cnt += 1\n",
        "  if(cnt == 3 and f):\n",
        "    ypos = lower\n",
        "    interval = 0.2\n",
        "    cnt = 0\n",
        "    f = False\n",
        "    \n",
        "\n",
        "nx.draw_networkx(G,pos = pos, node_color=\"c\")\n",
        "plt.show()"
      ],
      "metadata": {
        "colab": {
          "base_uri": "https://localhost:8080/",
          "height": 248
        },
        "id": "QoeCZYwxKq3g",
        "outputId": "3df7a62f-a728-4ef1-f625-5940289a4d96"
      },
      "execution_count": 45,
      "outputs": [
        {
          "output_type": "display_data",
          "data": {
            "text/plain": [
              "<Figure size 432x288 with 1 Axes>"
            ],
            "image/png": "[encoded data removed]"
          },
          "metadata": {}
        }
      ]
    }
  ]
}