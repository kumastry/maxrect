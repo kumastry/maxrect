{
  "nbformat": 4,
  "nbformat_minor": 0,
  "metadata": {
    "colab": {
      "name": "Untitled0.ipynb",
      "provenance": [],
      "mount_file_id": "1ZQ5_oXNqb19gQcnhGYfj4eVf9rudEXG_",
      "authorship_tag": "ABX9TyPKgGJfLO2KSxwlM3BeUhkF",
      "include_colab_link": true
    },
    "kernelspec": {
      "name": "python3",
      "display_name": "Python 3"
    },
    "language_info": {
      "name": "python"
    }
  },
  "cells": [
    {
      "cell_type": "markdown",
      "metadata": {
        "id": "view-in-github",
        "colab_type": "text"
      },
      "source": [
        "<a href=\"https://colab.research.google.com/github/kumastry/maxrect/blob/main/maxrect.ipynb\" target=\"_parent\"><img src=\"https://colab.research.google.com/assets/colab-badge.svg\" alt=\"Open In Colab\"/></a>"
      ]
    },
    {
      "cell_type": "code",
      "execution_count": null,
      "metadata": {
        "colab": {
          "base_uri": "https://localhost:8080/"
        },
        "id": "J4TkTOU2HFkq",
        "outputId": "e637a39c-74ed-49ee-9604-e605121f6571"
      },
      "outputs": [
        {
          "output_type": "stream",
          "name": "stdout",
          "text": [
            "Cloning into 'maxrect'...\n",
            "remote: Enumerating objects: 23, done.\u001b[K\n",
            "remote: Counting objects: 100% (23/23), done.\u001b[K\n",
            "remote: Compressing objects: 100% (12/12), done.\u001b[K\n",
            "remote: Total 23 (delta 6), reused 22 (delta 5), pack-reused 0\u001b[K\n",
            "Unpacking objects: 100% (23/23), done.\n"
          ]
        }
      ],
      "source": [
        "!git clone https://github.com/kumastry/maxrect.git"
      ]
    },
    {
      "cell_type": "code",
      "source": [
        "from google.colab import drive\n",
        "drive.mount('/content/drive')"
      ],
      "metadata": {
        "colab": {
          "base_uri": "https://localhost:8080/"
        },
        "id": "UaXroklGIQtx",
        "outputId": "419583d3-969d-44b6-a470-d3f39c0ed32b"
      },
      "execution_count": 4,
      "outputs": [
        {
          "output_type": "stream",
          "name": "stdout",
          "text": [
            "Drive already mounted at /content/drive; to attempt to forcibly remount, call drive.mount(\"/content/drive\", force_remount=True).\n"
          ]
        }
      ]
    },
    {
      "cell_type": "code",
      "source": [
        "import os\n",
        "print(\"カレントワーキングディレクトリは[\" + os.getcwd() + \"]です\")\n",
        "_colab_dir = \"/content/drive/MyDrive/Colab Notebooks\"\n",
        "os.chdir(_colab_dir)\n",
        "print(\"カレントワーキングディレクトリは[\" + os.getcwd() + \"]です\")"
      ],
      "metadata": {
        "colab": {
          "base_uri": "https://localhost:8080/"
        },
        "id": "0uDsJoYYKLeJ",
        "outputId": "339ecacc-1fde-48fd-a304-281b7772cd1d"
      },
      "execution_count": 8,
      "outputs": [
        {
          "output_type": "stream",
          "name": "stdout",
          "text": [
            "カレントワーキングディレクトリは[/content/maxrect]です\n",
            "カレントワーキングディレクトリは[/content/drive/MyDrive/Colab Notebooks]です\n"
          ]
        }
      ]
    },
    {
      "cell_type": "code",
      "source": [
        "from myModule import maxrect\n",
        "import networkx\n",
        "\n",
        "m1 = maxrect.maxrect()\n",
        "m1.ready()\n",
        "m1.printResult()"
      ],
      "metadata": {
        "colab": {
          "base_uri": "https://localhost:8080/"
        },
        "id": "QoeCZYwxKq3g",
        "outputId": "5f86554b-31a3-4fc3-da08-78311433b923"
      },
      "execution_count": 11,
      "outputs": [
        {
          "output_type": "stream",
          "name": "stdout",
          "text": [
            "1\n",
            "[1 1 1 1 1]\n",
            "[1]\n",
            "[0 1 2 3 4]\n",
            "-1\n",
            "###\n",
            "1\n",
            "[1 1 1 0 0]\n",
            "[1 0]\n",
            "[0 1 2]\n",
            "1\n",
            "###\n",
            "1\n",
            "[0 0 1 1 1]\n",
            "[1 0 2]\n",
            "[2]\n",
            "-1\n",
            "###\n",
            "2\n",
            "[0 0 1 1 1]\n",
            "[2]\n",
            "[2 3 4]\n",
            "-1\n",
            "###\n",
            "2\n",
            "[1 1 1 1 1]\n",
            "[2 1]\n",
            "[2 3 4]\n",
            "0\n",
            "###\n",
            "2\n",
            "[1 1 1 0 0]\n",
            "[2 1 0]\n",
            "[2]\n",
            "-3\n",
            "###\n",
            "3\n",
            "[1 1 1 0 0]\n",
            "[0]\n",
            "[0 1 2]\n",
            "-4\n",
            "###\n",
            "3\n",
            "[1 1 1 1 1]\n",
            "[0 1]\n",
            "[0 1 2]\n",
            "-5\n",
            "###\n",
            "3\n",
            "[0 0 1 1 1]\n",
            "[0 1 2]\n",
            "[2]\n",
            "-4\n",
            "###\n",
            "4\n",
            "[1 1 1 1 1]\n",
            "[1]\n",
            "[0 1 2 3 4]\n",
            "-6\n",
            "###\n",
            "4\n",
            "[0 0 1 1 1]\n",
            "[1 2]\n",
            "[2 3 4]\n",
            "-5\n",
            "###\n",
            "5\n",
            "[0 0 1 1 1]\n",
            "[2]\n",
            "[2 3 4]\n",
            "-4\n",
            "###\n",
            "[[array([1, 0]) array([0, 1, 2])]\n",
            " [array([2, 1]) array([2, 3, 4])]]\n"
          ]
        },
        {
          "output_type": "stream",
          "name": "stderr",
          "text": [
            "/content/drive/MyDrive/Colab Notebooks/myModule/maxrect.py:55: VisibleDeprecationWarning: Creating an ndarray from ragged nested sequences (which is a list-or-tuple of lists-or-tuples-or ndarrays with different lengths or shapes) is deprecated. If you meant to do this, you must specify 'dtype=object' when creating the ndarray.\n",
            "  self.ec = np.append(self.ec, np.array([[S_max], [T_max]]))\n"
          ]
        }
      ]
    }
  ]
}